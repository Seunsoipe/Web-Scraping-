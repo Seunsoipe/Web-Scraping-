{
  "nbformat": 4,
  "nbformat_minor": 0,
  "metadata": {
    "colab": {
      "provenance": [],
      "authorship_tag": "ABX9TyPb9Sm16stkqhpg8jK8/No9",
      "include_colab_link": true
    },
    "kernelspec": {
      "name": "python3",
      "display_name": "Python 3"
    },
    "language_info": {
      "name": "python"
    }
  },
  "cells": [
    {
      "cell_type": "markdown",
      "metadata": {
        "id": "view-in-github",
        "colab_type": "text"
      },
      "source": [
        "<a href=\"https://colab.research.google.com/github/Seunsoipe/Web-Scraping-/blob/main/Web_Scraping_Checkpoint.ipynb\" target=\"_parent\"><img src=\"https://colab.research.google.com/assets/colab-badge.svg\" alt=\"Open In Colab\"/></a>"
      ]
    },
    {
      "cell_type": "markdown",
      "source": [
        "## Objective\n",
        "Scraping text from Wikipedia  website using Beautiful Soup\n",
        "\n",
        "1.1) Write a function to Get and parse html content from a Wikipedia page\n",
        "\n",
        "1.2) Write a function to Extract article title\n",
        "\n",
        "1.3) Write a function to Extract article text for each paragraph with their respective\n",
        "\n",
        "headings. Map those headings to their respective paragraphs in the dictionary.\n",
        "\n",
        "1.4) Write a function to collect every link that redirects to another Wikipedia page\n",
        "\n",
        "1.5) Wrap all the previous functions into a single function that takes as parameters a Wikipedia link\n",
        "\n",
        "1.6) Test the last function on a Wikipedia page of your choice"
      ],
      "metadata": {
        "id": "79Qh6zhJWFaz"
      }
    },
    {
      "cell_type": "code",
      "execution_count": 1,
      "metadata": {
        "id": "WhavymbpV83i"
      },
      "outputs": [],
      "source": [
        "import requests\n",
        "import string\n",
        "from bs4 import BeautifulSoup"
      ]
    },
    {
      "cell_type": "code",
      "source": [
        "Enter_input = input(\"Search: \")\n",
        "u_i = string.capwords(Enter_input)\n",
        "lists = u_i.split()\n",
        "word = \"_\".join(lists)\n",
        "\n",
        "url = \"https://en.wikipedia.org/wiki/\"+word\n",
        "\n",
        "def wikibot(url):\n",
        "  url_open = requests.get(url)\n",
        "  soup = BeautifulSoup(url_open.content, 'html.parser')\n",
        "  details = soup('table',{'class':'infobox'})\n",
        "  for i in details:\n",
        "    h =i.find_all('tr')\n",
        "    for j in h:\n",
        "      heading = j.find_all('th')\n",
        "      detail = j.find_all('td')\n",
        "      if heading is not None and detail is not None:\n",
        "        for x,y in zip(heading,detail):\n",
        "          print(\"{}  ::  {}\".format(x.text,y.text))\n",
        "          print(\"----------------\")\n",
        "  for i in range(1,3):\n",
        "    print(soup('p')[i].text)\n",
        "wikibot(url)"
      ],
      "metadata": {
        "colab": {
          "base_uri": "https://localhost:8080/"
        },
        "id": "On6ocNQsYRf3",
        "outputId": "0b3bb51c-74dc-4d5e-b661-1907f5e9c71f"
      },
      "execution_count": 2,
      "outputs": [
        {
          "output_type": "stream",
          "name": "stdout",
          "text": [
            "Search: covid 19\n",
            "Other names  ::  COVID, (the) coronavirus\n",
            "----------------\n",
            "Pronunciation  ::  .mw-parser-output .plainlist ol,.mw-parser-output .plainlist ul{line-height:inherit;list-style:none;margin:0;padding:0}.mw-parser-output .plainlist ol li,.mw-parser-output .plainlist ul li{margin-bottom:0}/kəˈroʊnəvaɪrəs//ˌkoʊvɪdnaɪnˈtiːn, ˌkɒvɪd-/[1] \n",
            "----------------\n",
            "Specialty  ::  Infectious disease\n",
            "----------------\n",
            "Symptoms  ::  Fever, cough, fatigue, shortness of breath, vomiting, loss of taste or smell; some cases asymptomatic[2][3]\n",
            "----------------\n",
            "Complications  ::  Pneumonia, sepsis, ARDS, kidney failure, respiratory failure, pulmonary fibrosis, CKS, MIS-C, long COVID\n",
            "----------------\n",
            "Usual onset  ::  2–14 days (typically 5)  after infection\n",
            "----------------\n",
            "Duration  ::  5 days to chronic\n",
            "----------------\n",
            "Causes  ::  SARS-CoV-2\n",
            "----------------\n",
            "Diagnostic method  ::  RT‑PCR testing, CT scan, rapid antigen test\n",
            "----------------\n",
            "Prevention  ::  Vaccination, face coverings, quarantine, social distancing, ventilation, hand washing\n",
            "----------------\n",
            "Treatment  ::  Symptomatic and supportive\n",
            "----------------\n",
            "Frequency  ::  670,456,897[4] cases\n",
            "----------------\n",
            "Deaths  ::  6,831,003[4]\n",
            "----------------\n",
            "\n",
            "\n",
            "Coronavirus disease 2019 (COVID-19) is a contagious disease caused by a virus, the severe acute respiratory syndrome coronavirus 2 (SARS-CoV-2). The first known case was identified in Wuhan, China, in December 2019.[5] The disease quickly spread worldwide, resulting in the COVID-19 pandemic.\n",
            "\n"
          ]
        }
      ]
    },
    {
      "cell_type": "code",
      "source": [
        "Enter_input = input(\"Search: \")\n",
        "u_i = string.capwords(Enter_input)\n",
        "lists = u_i.split()\n",
        "word = \"_\".join(lists)\n",
        "\n",
        "url = \"https://en.wikipedia.org/wiki/\"+word\n",
        "\n",
        "def wikibot(url):\n",
        "  url_open = requests.get(url)\n",
        "  soup = BeautifulSoup(url_open.content, 'html.parser')\n",
        "  details = soup('table',{'class':'infobox'})\n",
        "  for i in details:\n",
        "    h =i.find_all('tr')\n",
        "    for j in h:\n",
        "      heading = j.find_all('th')\n",
        "      detail = j.find_all('td')\n",
        "      if heading is not None and detail is not None:\n",
        "        for x,y in zip(heading,detail):\n",
        "          print(\"{}  ::  {}\".format(x.text,y.text))\n",
        "          print(\"----------------\")\n",
        "  for i in range(1,3):\n",
        "    print(soup('p')[i].text)\n",
        "wikibot(url)"
      ],
      "metadata": {
        "colab": {
          "base_uri": "https://localhost:8080/"
        },
        "id": "N5hrnTYhdk6g",
        "outputId": "7c1ca845-22b7-48b8-cf43-eadf6fff7df8"
      },
      "execution_count": 4,
      "outputs": [
        {
          "output_type": "stream",
          "name": "stdout",
          "text": [
            "Search: Nigeria\n",
            "Capital  ::  Abuja9°4′N 7°29′E﻿ / ﻿9.067°N 7.483°E﻿ / 9.067; 7.483\n",
            "----------------\n",
            "Largest city  ::  Lagos\n",
            "----------------\n",
            "Official languages  ::  English\n",
            "----------------\n",
            "National languages  ::  .mw-parser-output .hlist dl,.mw-parser-output .hlist ol,.mw-parser-output .hlist ul{margin:0;padding:0}.mw-parser-output .hlist dd,.mw-parser-output .hlist dt,.mw-parser-output .hlist li{margin:0;display:inline}.mw-parser-output .hlist.inline,.mw-parser-output .hlist.inline dl,.mw-parser-output .hlist.inline ol,.mw-parser-output .hlist.inline ul,.mw-parser-output .hlist dl dl,.mw-parser-output .hlist dl ol,.mw-parser-output .hlist dl ul,.mw-parser-output .hlist ol dl,.mw-parser-output .hlist ol ol,.mw-parser-output .hlist ol ul,.mw-parser-output .hlist ul dl,.mw-parser-output .hlist ul ol,.mw-parser-output .hlist ul ul{display:inline}.mw-parser-output .hlist .mw-empty-li{display:none}.mw-parser-output .hlist dt::after{content:\": \"}.mw-parser-output .hlist dd::after,.mw-parser-output .hlist li::after{content:\" · \";font-weight:bold}.mw-parser-output .hlist dd:last-child::after,.mw-parser-output .hlist dt:last-child::after,.mw-parser-output .hlist li:last-child::after{content:none}.mw-parser-output .hlist dd dd:first-child::before,.mw-parser-output .hlist dd dt:first-child::before,.mw-parser-output .hlist dd li:first-child::before,.mw-parser-output .hlist dt dd:first-child::before,.mw-parser-output .hlist dt dt:first-child::before,.mw-parser-output .hlist dt li:first-child::before,.mw-parser-output .hlist li dd:first-child::before,.mw-parser-output .hlist li dt:first-child::before,.mw-parser-output .hlist li li:first-child::before{content:\" (\";font-weight:normal}.mw-parser-output .hlist dd dd:last-child::after,.mw-parser-output .hlist dd dt:last-child::after,.mw-parser-output .hlist dd li:last-child::after,.mw-parser-output .hlist dt dd:last-child::after,.mw-parser-output .hlist dt dt:last-child::after,.mw-parser-output .hlist dt li:last-child::after,.mw-parser-output .hlist li dd:last-child::after,.mw-parser-output .hlist li dt:last-child::after,.mw-parser-output .hlist li li:last-child::after{content:\")\";font-weight:normal}.mw-parser-output .hlist ol{counter-reset:listitem}.mw-parser-output .hlist ol>li{counter-increment:listitem}.mw-parser-output .hlist ol>li::before{content:\" \"counter(listitem)\"\\a0 \"}.mw-parser-output .hlist dd ol>li:first-child::before,.mw-parser-output .hlist dt ol>li:first-child::before,.mw-parser-output .hlist li ol>li:first-child::before{content:\" (\"counter(listitem)\"\\a0 \"}HausaYorubaIgbo\n",
            "----------------\n",
            "Regional languages[2]  ::  Over 525 languages[1]\n",
            "----------------\n",
            "Ethnic groups  (2018)[3]  ::  \n",
            "25% Hausa\n",
            "21% Yoruba\n",
            "18% Igbo\n",
            "6% Fulani\n",
            "3.5% Ibibio\n",
            "2.4% Tiv\n",
            "2.4% Kanuri\n",
            "1.8% Ijaw\n",
            "19.9% Other\n",
            "\n",
            "----------------\n",
            "Demonym(s)  ::  Nigerian\n",
            "----------------\n",
            "Government  ::  Federal presidential republic\n",
            "----------------\n",
            "• President   ::  Muhammadu Buhari\n",
            "----------------\n",
            "• Vice President   ::  Yemi Osinbajo\n",
            "----------------\n",
            "• Senate President   ::  Ahmed Lawan\n",
            "----------------\n",
            "• House Speaker   ::  Femi Gbajabiamila\n",
            "----------------\n",
            "• Chief Justice   ::  Olukayode Ariwoola\n",
            "----------------\n",
            "Legislature  ::  National Assembly\n",
            "----------------\n",
            "• Upper house  ::  Senate\n",
            "----------------\n",
            "• Lower house  ::  House of Representatives\n",
            "----------------\n",
            "• Northern Nigeria Protectorate   ::  1 January 1900\n",
            "----------------\n",
            "• Southern Nigeria Protectorate   ::  1 January 1900\n",
            "----------------\n",
            "• Unification of Nigeria   ::  1 January 1914\n",
            "----------------\n",
            "• Declared   ::  1 October 1960\n",
            "----------------\n",
            "• Federation   ::  1 October 1963\n",
            "----------------\n",
            "• Current constitution   ::  29 May 1999\n",
            "----------------\n",
            "• Total  ::  923,769 km2 (356,669 sq mi) (31st)\n",
            "----------------\n",
            "• Water (%)  ::  1.4\n",
            "----------------\n",
            "• 2022 estimate  ::  225,082,083[4] (6th)\n",
            "----------------\n",
            "• Density  ::  218/km2 (564.6/sq mi) (42nd)\n",
            "----------------\n",
            "GDP .mw-parser-output .nobold{font-weight:normal}(PPP)  ::  2022 estimate\n",
            "----------------\n",
            "• Total  ::   $1.27 trillion [5] (27th)\n",
            "----------------\n",
            "• Per capita  ::  $5,884 [5] (141st)\n",
            "----------------\n",
            "GDP (nominal)  ::  2022 estimate\n",
            "----------------\n",
            "• Total  ::  $504 billion[5] (31st)\n",
            "----------------\n",
            "• Per capita  ::   $2,326 [5] (145th)\n",
            "----------------\n",
            "Gini (2020)  ::   35.1[6]medium\n",
            "----------------\n",
            "HDI (2021)  ::   0.535[7]low · 163nd\n",
            "----------------\n",
            "Currency  ::  Naira (₦) (NGN)\n",
            "----------------\n",
            "Time zone  ::  UTC+01:00 (WAT)\n",
            "----------------\n",
            "Driving side  ::  right[8]\n",
            "----------------\n",
            "Calling code  ::  +234\n",
            "----------------\n",
            "ISO 3166 code  ::  NG\n",
            "----------------\n",
            "Internet TLD  ::  .ng\n",
            "----------------\n",
            "\n",
            "\n",
            "Coordinates: .mw-parser-output .geo-default,.mw-parser-output .geo-dms,.mw-parser-output .geo-dec{display:inline}.mw-parser-output .geo-nondefault,.mw-parser-output .geo-multi-punct{display:none}.mw-parser-output .longitude,.mw-parser-output .latitude{white-space:nowrap}8°N 10°E﻿ / ﻿8°N 10°E﻿ / 8; 10\n",
            "\n"
          ]
        }
      ]
    },
    {
      "cell_type": "code",
      "source": [],
      "metadata": {
        "id": "O0jG2v6PePV_"
      },
      "execution_count": 3,
      "outputs": []
    }
  ]
}